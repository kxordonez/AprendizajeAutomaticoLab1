{
 "cells": [
  {
   "cell_type": "markdown",
   "id": "1f91dbb5",
   "metadata": {
    "id": "1f91dbb5"
   },
   "source": [
    "# Librerías"
   ]
  },
  {
   "cell_type": "code",
   "execution_count": null,
   "id": "0bca6fac",
   "metadata": {
    "id": "0bca6fac"
   },
   "outputs": [],
   "source": [
    "'''Librería para  formato de datos jerárquico que se usa en el NILMTK como fuente datos'''\n",
    "import h5py\n",
    "'''Librería para calculo numerico'''\n",
    "import numpy as np\n",
    "'''Librería para gráficas'''\n",
    "import matplotlib.pyplot as plt\n",
    "'''Importa para dividir el conjunto de datos en entrenamiento y prueba'''\n",
    "from sklearn.model_selection import train_test_split\n",
    "'''Clase para  evaluar y seleccionar los parámetros de un modelo'''\n",
    "from sklearn.model_selection import GridSearchCV\n",
    "'''Librería para utilizar el modelo SVM'''\n",
    "from sklearn import svm\n",
    "'''Librería que que ofrece metricas'''\n",
    "from sklearn.metrics import accuracy_score, precision_score, recall_score, f1_score, make_scorer\n",
    "'''Clase para determinar la matriz de confusión'''\n",
    "from sklearn.metrics import confusion_matrix\n",
    "'''Graficar la matriz de confusión'''\n",
    "from sklearn.metrics import plot_confusion_matrix\n",
    "'''Librería para validación cruzada para evaluación'''\n",
    "from sklearn.model_selection import cross_validate, KFold"
   ]
  },
  {
   "cell_type": "code",
   "execution_count": null,
   "id": "52e3de28",
   "metadata": {
    "id": "52e3de28"
   },
   "outputs": [],
   "source": [
    "'''Selección de caracteristicas'''\n",
    "h5_color     = '/content/drive/MyDrive/Mineria/caracteristicasColor/color_caracteristicas.h5'\n",
    "'''Selección de etiquetas'''\n",
    "h5_colorLb   = '/content/drive/MyDrive/Mineria/caracteristicasColor/color_caracteristicas_etiquetas.h5'\n",
    "'''Puntuación'''\n",
    "scoring      = {'accuracy' : make_scorer(accuracy_score),\n",
    "                'f1_score' : make_scorer(f1_score, average = 'weighted'), \n",
    "                'precision' : make_scorer(precision_score, average = 'weighted'),\n",
    "                'recall' : make_scorer(recall_score, average = 'weighted')}"
   ]
  },
  {
   "cell_type": "markdown",
   "id": "6e906e96",
   "metadata": {
    "id": "6e906e96"
   },
   "source": [
    "<h1>Lectura de Caracteristicas y etiquetas"
   ]
  },
  {
   "cell_type": "code",
   "execution_count": null,
   "id": "7b9f2d48",
   "metadata": {
    "colab": {
     "base_uri": "https://localhost:8080/"
    },
    "executionInfo": {
     "elapsed": 287,
     "status": "ok",
     "timestamp": 1660355729723,
     "user": {
      "displayName": "Leiidy Yanela",
      "userId": "14578214687014159232"
     },
     "user_tz": 300
    },
    "id": "7b9f2d48",
    "outputId": "a50fa97c-c316-4c75-d0fe-e01b13fc10f8"
   },
   "outputs": [
    {
     "name": "stdout",
     "output_type": "stream",
     "text": [
      "[STATUS] features shape: (6718, 512)\n",
      "[STATUS] labels shape: (6718,)\n",
      "[STATUS] Comenzó el modelamiento...\n"
     ]
    }
   ],
   "source": [
    "'''Importar el vector de características y las etiquetas entrenadas'''\n",
    "h5f_color   = h5py.File(h5_color, 'r')\n",
    "h5f_colorLb = h5py.File(h5_colorLb, 'r')\n",
    "\n",
    "'''Cadena de características de color'''\n",
    "color_features_string          = h5f_color['mascararillasCaracteristicas']\n",
    "'''Cadena de características de etiqueta de color'''\n",
    "color_features_labels_string   = h5f_colorLb['mascarillasCaracteristicas_Etiquetas']\n",
    "\n",
    "'''Matriz de cadena características '''\n",
    "color_features = np.array(color_features_string)\n",
    "'''Matriz de cadena características de etiqueta'''\n",
    "color_features_labels  = np.array(color_features_labels_string)\n",
    "\n",
    "'''Cerrar los identificadores h5f'''\n",
    "h5f_color.close()\n",
    "h5f_colorLb.close()\n",
    "\n",
    "'''Verificar la forma del vector de características y las etiquetas'''\n",
    "print(\"[STATUS] features shape: {}\".format(color_features.shape))\n",
    "print(\"[STATUS] labels shape: {}\".format(color_features_labels.shape))\n",
    "\n",
    "'''Estado'''\n",
    "print(\"[STATUS] Comenzó el modelamiento...\")"
   ]
  },
  {
   "cell_type": "code",
   "execution_count": null,
   "id": "5f7acf3a",
   "metadata": {
    "colab": {
     "base_uri": "https://localhost:8080/"
    },
    "executionInfo": {
     "elapsed": 16,
     "status": "ok",
     "timestamp": 1660355729728,
     "user": {
      "displayName": "Leiidy Yanela",
      "userId": "14578214687014159232"
     },
     "user_tz": 300
    },
    "id": "5f7acf3a",
    "outputId": "65cbef82-71d2-44ee-cc26-0667742e156d"
   },
   "outputs": [
    {
     "name": "stdout",
     "output_type": "stream",
     "text": [
      "[STATUS] features shape: (6718, 512)\n"
     ]
    }
   ],
   "source": [
    "'''Apilar matrices en secuencia horizontal'''\n",
    "global_features = np.hstack([color_features])\n",
    "'''Impresion del estado'''\n",
    "print(\"[STATUS] features shape: {}\".format(global_features.shape))"
   ]
  },
  {
   "cell_type": "markdown",
   "id": "0bca0543",
   "metadata": {
    "id": "0bca0543"
   },
   "source": [
    "<h1>Indentificar X y Y"
   ]
  },
  {
   "cell_type": "code",
   "execution_count": null,
   "id": "e57aaf51",
   "metadata": {
    "id": "e57aaf51"
   },
   "outputs": [],
   "source": [
    "'''Variable para Caracteristicas'''\n",
    "X = global_features\n",
    "'''Variable para Etiqueta'''\n",
    "Y = color_features_labels"
   ]
  },
  {
   "cell_type": "markdown",
   "id": "230295ee",
   "metadata": {
    "id": "230295ee"
   },
   "source": [
    "<h1> Entrenamiento y prueba"
   ]
  },
  {
   "cell_type": "code",
   "execution_count": null,
   "id": "d564d291",
   "metadata": {
    "colab": {
     "base_uri": "https://localhost:8080/"
    },
    "executionInfo": {
     "elapsed": 26,
     "status": "ok",
     "timestamp": 1660355729950,
     "user": {
      "displayName": "Leiidy Yanela",
      "userId": "14578214687014159232"
     },
     "user_tz": 300
    },
    "id": "d564d291",
    "outputId": "33d61bf2-2905-462e-9507-93e35515ae4e"
   },
   "outputs": [
    {
     "data": {
      "text/plain": [
       "((5374, 512), (1344, 512))"
      ]
     },
     "execution_count": 6,
     "metadata": {},
     "output_type": "execute_result"
    }
   ],
   "source": [
    "'''Se divide el conjunto de datos en 80% para entrenamiento y 20% para prueba'''\n",
    "X_train, X_test, y_train, y_test = train_test_split(X, Y,\n",
    "                                                    test_size   = 0.20,\n",
    "                                                    random_state = 9)\n",
    "\n",
    "'''Tamaño del array en X_train y X_test'''\n",
    "X_train.shape, X_test.shape"
   ]
  },
  {
   "cell_type": "markdown",
   "id": "d3b945c9",
   "metadata": {
    "id": "d3b945c9"
   },
   "source": [
    "<h1>Kernel"
   ]
  },
  {
   "cell_type": "code",
   "execution_count": null,
   "id": "f46c9816",
   "metadata": {
    "id": "f46c9816"
   },
   "outputs": [],
   "source": [
    "'''Cuadrícula de parámetros lineales'''\n",
    "linear_param_grid = {    \n",
    "        \"kernel\": [\"linear\"],\n",
    "        \"C\": [0.0001, 0.001, 0.1, 1, 10, 100, 1000],\n",
    "        \"decision_function_shape\": ['ovo', 'ovr']\n",
    "}"
   ]
  },
  {
   "cell_type": "markdown",
   "id": "eabaa1f5",
   "metadata": {
    "id": "eabaa1f5"
   },
   "source": [
    "<h1> Kernel Lineal"
   ]
  },
  {
   "cell_type": "code",
   "execution_count": null,
   "id": "3869986c",
   "metadata": {
    "colab": {
     "base_uri": "https://localhost:8080/"
    },
    "executionInfo": {
     "elapsed": 511879,
     "status": "ok",
     "timestamp": 1660356241809,
     "user": {
      "displayName": "Leiidy Yanela",
      "userId": "14578214687014159232"
     },
     "user_tz": 300
    },
    "id": "3869986c",
    "outputId": "f367511c-804a-47a9-e341-9b37022bf64a"
   },
   "outputs": [
    {
     "name": "stdout",
     "output_type": "stream",
     "text": [
      "SVC(C=1000, decision_function_shape='ovo', kernel='linear')\n"
     ]
    }
   ],
   "source": [
    "'''Ajuste de hiperparámetros SVM mediante GridSearchCV'''\n",
    "linear_grid = GridSearchCV(svm.SVC(), linear_param_grid)\n",
    "'''Entrenamiento'''\n",
    "linear_grid.fit(X_train,y_train)\n",
    "'''Impresión de estimador'''\n",
    "print(linear_grid.best_estimator_)"
   ]
  },
  {
   "cell_type": "markdown",
   "id": "TV3uvlMZxuH9",
   "metadata": {
    "id": "TV3uvlMZxuH9"
   },
   "source": [
    "<h1> Predicción"
   ]
  },
  {
   "cell_type": "code",
   "execution_count": null,
   "id": "c535ecd8",
   "metadata": {
    "colab": {
     "base_uri": "https://localhost:8080/"
    },
    "executionInfo": {
     "elapsed": 621,
     "status": "ok",
     "timestamp": 1660356242413,
     "user": {
      "displayName": "Leiidy Yanela",
      "userId": "14578214687014159232"
     },
     "user_tz": 300
    },
    "id": "c535ecd8",
    "outputId": "db1c2262-eba3-41cd-b7db-6baafae84792"
   },
   "outputs": [
    {
     "name": "stdout",
     "output_type": "stream",
     "text": [
      "Accuracy (Linear Kernel):  78.20\n",
      "F1 (Linear Kernel):  78.18\n",
      "Precision (Linear Kernel):  78.51\n",
      "Recall (Linear Kernel):  78.20\n"
     ]
    }
   ],
   "source": [
    "'''Predección para el valor futuro de la prueba'''\n",
    "linear_pred = linear_grid.predict(X_test)\n",
    "'''Métrica de Exactitud'''\n",
    "linear_accuracy = accuracy_score(y_test, linear_pred)\n",
    "'''Métrica de precisión'''\n",
    "linear_precision = precision_score(y_test, linear_pred, average='weighted')\n",
    "'''Métrica de Sensibilidad'''\n",
    "linear_recall = recall_score(y_test, linear_pred, average='weighted')\n",
    "'''Métrica de Puntuación f1'''\n",
    "linear_f1 = f1_score(y_test, linear_pred, average='weighted')\n",
    "print('Accuracy (Linear Kernel): ', \"%.2f\" % (linear_accuracy*100))\n",
    "print('F1 (Linear Kernel): ', \"%.2f\" % (linear_f1*100))\n",
    "print('Precision (Linear Kernel): ', \"%.2f\" % (linear_precision*100))\n",
    "print('Recall (Linear Kernel): ', \"%.2f\" % (linear_recall*100))"
   ]
  },
  {
   "cell_type": "markdown",
   "id": "Xbfx6pH0x5kB",
   "metadata": {
    "id": "Xbfx6pH0x5kB"
   },
   "source": [
    "<h1> Métricas de validación"
   ]
  },
  {
   "cell_type": "code",
   "execution_count": null,
   "id": "6568232b",
   "metadata": {
    "colab": {
     "base_uri": "https://localhost:8080/"
    },
    "executionInfo": {
     "elapsed": 1622135,
     "status": "ok",
     "timestamp": 1660357864542,
     "user": {
      "displayName": "Leiidy Yanela",
      "userId": "14578214687014159232"
     },
     "user_tz": 300
    },
    "id": "6568232b",
    "outputId": "d058a09e-4312-42b5-b09b-49c874ad8bbb"
   },
   "outputs": [
    {
     "name": "stdout",
     "output_type": "stream",
     "text": [
      "Accuracy (Linear Kernel):  77.47\n",
      "F1 (Linear Kernel):  77.44\n",
      "Precision (Linear Kernel):  77.60\n",
      "Recall (Linear Kernel):  77.47\n"
     ]
    }
   ],
   "source": [
    "'''Validación cruzada'''\n",
    "results = cross_validate(estimator=linear_grid, X=X_train, y=y_train, scoring=scoring)\n",
    "\n",
    "'''Métrica de Exactitud'''\n",
    "print('Accuracy (Linear Kernel): ', \"%.2f\" % (np.mean(results['test_accuracy'])*100))\n",
    "'''Métrica de Puntuación f1'''\n",
    "print('F1 (Linear Kernel): ', \"%.2f\" % (np.mean(results['test_f1_score'])*100))\n",
    "'''Métrica de precisión'''\n",
    "print('Precision (Linear Kernel): ', \"%.2f\" % (np.mean(results['test_precision'])*100))\n",
    "'''Métrica de Sensibilidad'''\n",
    "print('Recall (Linear Kernel): ', \"%.2f\" % (np.mean(results['test_recall'])*100))"
   ]
  },
  {
   "cell_type": "markdown",
   "id": "fMXY9qrJDbqm",
   "metadata": {
    "id": "fMXY9qrJDbqm"
   },
   "source": [
    "<h1> Matriz de Confusión"
   ]
  },
  {
   "cell_type": "code",
   "execution_count": null,
   "id": "u2IxKZhQwGxE",
   "metadata": {
    "colab": {
     "base_uri": "https://localhost:8080/",
     "height": 350
    },
    "executionInfo": {
     "elapsed": 966,
     "status": "ok",
     "timestamp": 1660357865488,
     "user": {
      "displayName": "Leiidy Yanela",
      "userId": "14578214687014159232"
     },
     "user_tz": 300
    },
    "id": "u2IxKZhQwGxE",
    "outputId": "4ffaaa92-0d90-41d2-9fa9-296659aaea54"
   },
   "outputs": [
    {
     "name": "stderr",
     "output_type": "stream",
     "text": [
      "/usr/local/lib/python3.7/dist-packages/sklearn/utils/deprecation.py:87: FutureWarning: Function plot_confusion_matrix is deprecated; Function `plot_confusion_matrix` is deprecated in 1.0 and will be removed in 1.2. Use one of the class methods: ConfusionMatrixDisplay.from_predictions or ConfusionMatrixDisplay.from_estimator.\n",
      "  warnings.warn(msg, category=FutureWarning)\n"
     ]
    },
    {
     "data": {
      "image/png": "[encoded data removed]",
      "text/plain": [
       "<Figure size 432x288 with 2 Axes>"
      ]
     },
     "metadata": {
      "needs_background": "light"
     },
     "output_type": "display_data"
    }
   ],
   "source": [
    "'''Matriz de confusión'''\n",
    "confusion_matrix(y_test, linear_pred)\n",
    "plot_confusion_matrix(linear_grid, X_test, y_test, cmap=plt.cm.Reds)\n",
    "plt.title(\"Matriz de Confusión\")\n",
    "plt.show()"
   ]
  }
 ],
 "metadata": {
  "colab": {
   "collapsed_sections": [],
   "name": "SVM.ipynb",
   "provenance": []
  },
  "gpuClass": "standard",
  "kernelspec": {
   "display_name": "Python 3 (ipykernel)",
   "language": "python",
   "name": "python3"
  },
  "language_info": {
   "codemirror_mode": {
    "name": "ipython",
    "version": 3
   },
   "file_extension": ".py",
   "mimetype": "text/x-python",
   "name": "python",
   "nbconvert_exporter": "python",
   "pygments_lexer": "ipython3",
   "version": "3.9.12"
  }
 },
 "nbformat": 4,
 "nbformat_minor": 5
}
